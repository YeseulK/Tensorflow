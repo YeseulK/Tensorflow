{
 "cells": [
  {
   "cell_type": "code",
   "execution_count": 6,
   "metadata": {},
   "outputs": [
    {
     "name": "stdout",
     "output_type": "stream",
     "text": [
      "Extracting ./mnist/data/train-images-idx3-ubyte.gz\n",
      "Extracting ./mnist/data/train-labels-idx1-ubyte.gz\n",
      "Extracting ./mnist/data/t10k-images-idx3-ubyte.gz\n",
      "Extracting ./mnist/data/t10k-labels-idx1-ubyte.gz\n"
     ]
    }
   ],
   "source": [
    "# 대표적인 비지도(Unsupervised) 학습 방법인 Autoencoder 를 구현해봅니다.\n",
    "import tensorflow as tf\n",
    "import numpy as np\n",
    "import matplotlib.pyplot as plt\n",
    "\n",
    "from tensorflow.examples.tutorials.mnist import input_data\n",
    "mnist = input_data.read_data_sets(\"./mnist/data/\", one_hot=True)"
   ]
  },
  {
   "cell_type": "code",
   "execution_count": 7,
   "metadata": {},
   "outputs": [],
   "source": [
    "#########\n",
    "# 옵션 설정\n",
    "\n",
    "learning_rate = 0.01\n",
    "training_epoch = 50\n",
    "batch_size = 100\n",
    "\n",
    "# 신경망 레이어 구성 옵션\n",
    "n_hidden = 256  \n",
    "n_hidden2 = 128 \n",
    "n_hidden3 = 64 \n",
    "n_input = 28*28   "
   ]
  },
  {
   "cell_type": "code",
   "execution_count": 8,
   "metadata": {},
   "outputs": [],
   "source": [
    "#########\n",
    "# 신경망 모델 구성\n",
    "######\n",
    "# Y 가 없습니다. 입력값을 Y로 사용하기 때문입니다.\n",
    "X = tf.placeholder(tf.float32, [None, n_input])\n",
    "\n",
    "# 인코더 레이어와 디코더 레이어의 가중치와 편향 변수를 설정합니다.\n",
    "# 다음과 같이 이어지는 레이어를 구성하기 위한 값들 입니다.\n",
    "# input -> encode -> decode -> output\n",
    "\n",
    "W_encode = tf.Variable(tf.random_normal([n_input, n_hidden]))\n",
    "b_encode = tf.Variable(tf.random_normal([n_hidden]))\n",
    "encoder = tf.nn.sigmoid(\n",
    "                tf.add(tf.matmul(X, W_encode), b_encode))\n",
    "\n",
    "W_encode2 = tf.Variable(tf.random_normal([n_hidden, n_hidden2]))\n",
    "b_encode2 = tf.Variable(tf.random_normal([n_hidden2]))\n",
    "encoder2 = tf.nn.sigmoid(\n",
    "                tf.add(tf.matmul(encoder, W_encode2), b_encode2))\n",
    "\n",
    "W_encode3 = tf.Variable(tf.random_normal([n_hidden2, n_hidden3]))\n",
    "b_encode3 = tf.Variable(tf.random_normal([n_hidden3]))\n",
    "encoder3 = tf.nn.sigmoid(\n",
    "                tf.add(tf.matmul(encoder2, W_encode3), b_encode3))\n",
    "\n",
    "W_decode = tf.Variable(tf.random_normal([n_hidden3, n_hidden2]))\n",
    "b_decode = tf.Variable(tf.random_normal([n_hidden2]))\n",
    "decoder = tf.nn.sigmoid(\n",
    "                tf.add(tf.matmul(encoder3, W_decode), b_decode))\n",
    "\n",
    "W_decode2 = tf.Variable(tf.random_normal([n_hidden2, n_hidden]))\n",
    "b_decode2 = tf.Variable(tf.random_normal([n_hidden]))\n",
    "decoder2 = tf.nn.sigmoid(\n",
    "                tf.add(tf.matmul(encoder2, W_decode2), b_decode2))\n",
    "\n",
    "W_decode3 = tf.Variable(tf.random_normal([n_hidden, n_input]))\n",
    "b_decode3 = tf.Variable(tf.random_normal([n_input]))\n",
    "decoder3 = tf.nn.sigmoid(\n",
    "                tf.add(tf.matmul(encoder, W_decode3), b_decode3))\n",
    "\n",
    "# 디코더는 인풋과 최대한 같은 결과를 내야 하므로, 디코딩한 결과를 평가하기 위해\n",
    "# 입력 값인 X 값을 평가를 위한 실측 결과 값으로하여 decoder 와의 차이를 손실값으로 설정합니다.\n",
    "cost = tf.reduce_mean(tf.pow(X - decoder3, 2))\n",
    "optimizer = tf.train.RMSPropOptimizer(learning_rate).minimize(cost)"
   ]
  },
  {
   "cell_type": "code",
   "execution_count": 9,
   "metadata": {},
   "outputs": [
    {
     "name": "stdout",
     "output_type": "stream",
     "text": [
      "Epoch: 0001 Avg. cost = 0.1990\n",
      "Epoch: 0002 Avg. cost = 0.0619\n",
      "Epoch: 0003 Avg. cost = 0.0510\n",
      "Epoch: 0004 Avg. cost = 0.0471\n",
      "Epoch: 0005 Avg. cost = 0.0419\n",
      "Epoch: 0006 Avg. cost = 0.0395\n",
      "Epoch: 0007 Avg. cost = 0.0373\n",
      "Epoch: 0008 Avg. cost = 0.0362\n",
      "Epoch: 0009 Avg. cost = 0.0345\n",
      "Epoch: 0010 Avg. cost = 0.0337\n",
      "Epoch: 0011 Avg. cost = 0.0332\n",
      "Epoch: 0012 Avg. cost = 0.0327\n",
      "Epoch: 0013 Avg. cost = 0.0322\n",
      "Epoch: 0014 Avg. cost = 0.0316\n",
      "Epoch: 0015 Avg. cost = 0.0312\n",
      "Epoch: 0016 Avg. cost = 0.0308\n",
      "Epoch: 0017 Avg. cost = 0.0305\n",
      "Epoch: 0018 Avg. cost = 0.0304\n",
      "Epoch: 0019 Avg. cost = 0.0301\n",
      "Epoch: 0020 Avg. cost = 0.0297\n",
      "최적화 완료!\n"
     ]
    }
   ],
   "source": [
    "#########\n",
    "# 신경망 모델 학습\n",
    "######\n",
    "init = tf.global_variables_initializer()\n",
    "sess = tf.Session()\n",
    "sess.run(init)\n",
    "\n",
    "total_batch = int(mnist.train.num_examples/batch_size)\n",
    "\n",
    "for epoch in range(training_epoch):\n",
    "    total_cost = 0\n",
    "\n",
    "    for i in range(total_batch):\n",
    "        batch_xs, batch_ys = mnist.train.next_batch(batch_size)\n",
    "        _, cost_val = sess.run([optimizer, cost],\n",
    "                               feed_dict={X: batch_xs})\n",
    "        total_cost += cost_val\n",
    "\n",
    "    print('Epoch:', '%04d' % (epoch + 1),\n",
    "          'Avg. cost =', '{:.4f}'.format(total_cost / total_batch))\n",
    "\n",
    "print('최적화 완료!')"
   ]
  },
  {
   "cell_type": "code",
   "execution_count": 10,
   "metadata": {},
   "outputs": [
    {
     "data": {
      "image/png": "[encoded data removed]",
      "text/plain": [
       "<Figure size 720x144 with 20 Axes>"
      ]
     },
     "metadata": {
      "needs_background": "light"
     },
     "output_type": "display_data"
    }
   ],
   "source": [
    "#########\n",
    "# 결과 확인\n",
    "# 입력값(위쪽)과 모델이 생성한 값(아래쪽)을 시각적으로 비교해봅니다.\n",
    "######\n",
    "sample_size = 10\n",
    "\n",
    "samples = sess.run(decoder2,\n",
    "                   feed_dict={X: mnist.test.images[:sample_size]})\n",
    "\n",
    "fig, ax = plt.subplots(2, sample_size, figsize=(sample_size, 2))\n",
    "\n",
    "for i in range(sample_size):\n",
    "    ax[0][i].set_axis_off()\n",
    "    ax[1][i].set_axis_off()\n",
    "    ax[0][i].imshow(np.reshape(mnist.test.images[i], (28, 28)))\n",
    "    ax[1][i].imshow(np.reshape(samples[i], (28, 28)))\n",
    "\n",
    "plt.show()\n"
   ]
  },
  {
   "cell_type": "code",
   "execution_count": null,
   "metadata": {},
   "outputs": [],
   "source": []
  },
  {
   "cell_type": "code",
   "execution_count": null,
   "metadata": {},
   "outputs": [],
   "source": []
  }
 ],
 "metadata": {
  "kernelspec": {
   "display_name": "Python 3",
   "language": "python",
   "name": "python3"
  },
  "language_info": {
   "codemirror_mode": {
    "name": "ipython",
    "version": 3
   },
   "file_extension": ".py",
   "mimetype": "text/x-python",
   "name": "python",
   "nbconvert_exporter": "python",
   "pygments_lexer": "ipython3",
   "version": "3.6.1"
  }
 },
 "nbformat": 4,
 "nbformat_minor": 2
}
